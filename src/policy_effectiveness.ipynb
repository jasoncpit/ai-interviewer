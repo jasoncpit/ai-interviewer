{
 "cells": [
  {
   "cell_type": "markdown",
   "id": "af2bf43b",
   "metadata": {},
   "source": [
    "\n",
    "# Adaptive Interviewer Policy — Effectiveness Demonstration\n",
    "\n",
    "**Objective:** demonstrate that an **adaptive policy** (UCB selection + LCB early-stop) can verify expertise **with fewer questions** and **less conversational thrash** (switching) than static repetitions, while maintaining verification quality.\n",
    "\n",
    "We compare three policies over synthetic, LLM‑graded answers:\n",
    "1. **Static (15A + 15B):** ask 15 copies of template **A** then 15 of **B** (no early stop).  \n",
    "2. **Random (30):** ask 30 random A/B questions (no early stop).  \n",
    "3. **Adaptive (UCB + stop):** choose A/B using **UCB**; **stop** when **LCB ≥ τ**.\n",
    "\n",
    "We run two regimes:\n",
    "- **IID noise:** no template bias/correlation.  \n",
    "- **Correlated + biased noise:** closer to reality — each candidate has a consistent offset for each template (correlation), and each template has an overall bias that affects all candidates (template bias). For example, a candidate might consistently score 0.5 points higher on template A questions, while template A itself might be 0.2 points easier for everyone.\n"
   ]
  },
  {
   "cell_type": "markdown",
   "id": "8eb65efa",
   "metadata": {},
   "source": [
    "\n",
    "## Policy Intuition (One‑Slide Explanation)\n",
    "\n",
    "**Selector (UCB):** prefer question templates with high estimated score *and* high uncertainty.  \n",
    "**Judge (LLM):** returns 1–5 score (we simulate with noise).  \n",
    "**Belief Update:** online mean/variance (Welford).  \n",
    "**Stop Rule:** when **LCB ≥ τ**, we are confident enough → **verify** and stop asking.\n"
   ]
  },
  {
   "cell_type": "code",
   "execution_count": 8,
   "id": "eaa387e0",
   "metadata": {},
   "outputs": [],
   "source": [
    "\n",
    "import numpy as np\n",
    "import pandas as pd\n",
    "import matplotlib.pyplot as plt\n",
    "from dataclasses import dataclass\n",
    "\n",
    "rng = np.random.default_rng(123)\n",
    "\n",
    "@dataclass\n",
    "class Config:\n",
    "    n_candidates: int = 5000   # number of synthetic participants\n",
    "    max_q: int = 30            # question budget per participant\n",
    "    tau: float = 3.5           # verification threshold for LCB\n",
    "    z: float = 1.96            # ~95% conf for LCB\n",
    "    sigma_resid: float = 0.6   # iid residual noise (grading noise)\n",
    "    rho: float = 0.0           # correlation strength via persistent offsets\n",
    "    bias_A: float = 0.0        # global bias for template A\n",
    "    bias_B: float = 0.0        # global bias for template B\n"
   ]
  },
  {
   "cell_type": "code",
   "execution_count": 9,
   "id": "4e30ae7a",
   "metadata": {},
   "outputs": [],
   "source": [
    "\n",
    "def welford_update(mu, M2, n, x):\n",
    "    \"\"\"Numerically-stable online mean/variance update.\"\"\"\n",
    "    n += 1\n",
    "    d = x - mu\n",
    "    mu += d / n\n",
    "    M2 += d * (x - mu)\n",
    "    var = M2 / (n - 1) if n > 1 else 1.0\n",
    "    return mu, M2, n, var\n",
    "\n",
    "def simulate_candidate(theta, cfg: Config, policy: str):\n",
    "    \"\"\"Simulate one candidate under a given policy.\n",
    "\n",
    "    Policies\n",
    "    --------\n",
    "    - 'repeated_30': ask A 15 times, then B 15 times (no early stop)\n",
    "    - 'random_30'  : ask 30 random A/B (no early stop)\n",
    "    - 'adaptive_ucb': choose A/B with UCB and early stop when LCB >= tau\n",
    "\n",
    "    Returns: dict with questions asked, verified flag, final LCB,\n",
    "             number of template switches (A->B or B->A), and the sequence.\n",
    "    \"\"\"\n",
    "    # Per-candidate, per-template persistent offsets ⇒ correlated noise when rho>0\n",
    "    shared_sd = cfg.rho * cfg.sigma_resid\n",
    "    shared_A = rng.normal(0, shared_sd)\n",
    "    shared_B = rng.normal(0, shared_sd)\n",
    "\n",
    "    # Global (skill) estimate accumulates evidence from both templates\n",
    "    mu, M2, n = 3.0, 0.0, 0\n",
    "\n",
    "    # Per-template trackers for UCB\n",
    "    muA, M2A, nA = 3.0, 0.0, 0\n",
    "    muB, M2B, nB = 3.0, 0.0, 0\n",
    "\n",
    "    def observe(tpl):\n",
    "        resid = rng.normal(0, cfg.sigma_resid)\n",
    "        if tpl == \"A\":\n",
    "            raw = theta + cfg.bias_A + shared_A + resid\n",
    "        else:\n",
    "            raw = theta + cfg.bias_B + shared_B + resid\n",
    "        return np.clip(raw, 1.0, 5.0)\n",
    "\n",
    "    questions = 0\n",
    "    verified = False\n",
    "    lcb_final = None\n",
    "    seq = []\n",
    "    last_tpl = None\n",
    "    switches = 0\n",
    "\n",
    "    for t in range(1, cfg.max_q + 1):\n",
    "        # ---- choose template ----\n",
    "        if policy == \"repeated_30\":\n",
    "            tpl = \"A\" if t <= 15 else \"B\"\n",
    "        elif policy == \"random_30\":\n",
    "            tpl = \"A\" if rng.random() < 0.5 else \"B\"\n",
    "        elif policy == \"adaptive_ucb\":\n",
    "            c = 1.0\n",
    "            idxA = np.inf if nA == 0 else (muA + c * np.sqrt(2*np.log(t)/nA))\n",
    "            idxB = np.inf if nB == 0 else (muB + c * np.sqrt(2*np.log(t)/nB))\n",
    "            tpl = \"A\" if idxA >= idxB else \"B\"\n",
    "        else:\n",
    "            raise ValueError(\"Unknown policy\")\n",
    "\n",
    "        if last_tpl is not None and tpl != last_tpl:\n",
    "            switches += 1\n",
    "        last_tpl = tpl\n",
    "\n",
    "        # ---- observe judged score and update statistics ----\n",
    "        x = observe(tpl)\n",
    "        mu, M2, n, var = welford_update(mu, M2, n, x)\n",
    "        if tpl == \"A\":\n",
    "            muA, M2A, nA, varA = welford_update(muA, M2A, nA, x)\n",
    "        else:\n",
    "            muB, M2B, nB, varB = welford_update(muB, M2B, nB, x)\n",
    "\n",
    "        # ---- compute conservative confidence bound (LCB) ----\n",
    "        se = np.sqrt(var) / np.sqrt(max(n, 1))\n",
    "        lcb = mu - cfg.z * se\n",
    "\n",
    "        questions += 1\n",
    "        seq.append((tpl, x, mu, lcb))\n",
    "\n",
    "        # Early stop only for adaptive policy\n",
    "        if policy == \"adaptive_ucb\" and lcb >= cfg.tau:\n",
    "            verified = True\n",
    "            lcb_final = lcb\n",
    "            break\n",
    "\n",
    "    # Fixed policies decide at the end using the final LCB\n",
    "    if policy in (\"repeated_30\", \"random_30\"):\n",
    "        verified = (lcb >= cfg.tau)\n",
    "        lcb_final = lcb\n",
    "\n",
    "    return {\n",
    "        \"questions\": questions,\n",
    "        \"verified\": verified,\n",
    "        \"lcb\": lcb_final,\n",
    "        \"switches\": switches,\n",
    "        \"seq\": seq,\n",
    "    }\n",
    "\n",
    "def run_experiment(cfg: Config):\n",
    "    \"\"\"Run the simulation for all three policies under a given configuration.\"\"\"\n",
    "    thetas = rng.normal(3.0, 1.0, cfg.n_candidates)\n",
    "    rows = []\n",
    "    for theta in thetas:\n",
    "        gt = int(theta >= cfg.tau)  # ground truth expert label\n",
    "        for policy in (\"repeated_30\", \"random_30\", \"adaptive_ucb\"):\n",
    "            out = simulate_candidate(theta, cfg, policy)\n",
    "            rows.append({\n",
    "                \"policy\": policy,\n",
    "                \"questions\": out[\"questions\"],\n",
    "                \"switches\": out[\"switches\"],\n",
    "                \"verified\": out[\"verified\"],\n",
    "                \"tp\": int(out[\"verified\"] and gt),\n",
    "                \"fp\": int(out[\"verified\"] and (not gt)),\n",
    "                \"fn\": int((not out[\"verified\"]) and gt),\n",
    "            })\n",
    "    df = pd.DataFrame(rows)\n",
    "\n",
    "    # Compute precision/recall by policy\n",
    "    def pr(group):\n",
    "        tp = group[\"tp\"].sum()\n",
    "        fp = group[\"fp\"].sum()\n",
    "        fn = group[\"fn\"].sum()\n",
    "        prec = tp / (tp + fp) if (tp + fp) > 0 else np.nan\n",
    "        rec = tp / (tp + fn) if (tp + fn) > 0 else np.nan\n",
    "        return pd.Series({\"precision\": prec, \"recall\": rec})\n",
    "\n",
    "    summary = df.groupby(\"policy\").agg(\n",
    "        avg_questions=(\"questions\",\"mean\"),\n",
    "        avg_switches=(\"switches\",\"mean\"),\n",
    "        verified_rate=(\"verified\",\"mean\"),\n",
    "    ).reset_index().merge(\n",
    "        df.groupby(\"policy\").apply(pr).reset_index(),\n",
    "        on=\"policy\", how=\"left\"\n",
    "    )\n",
    "\n",
    "    return df, summary\n"
   ]
  },
  {
   "cell_type": "markdown",
   "id": "17ad809c",
   "metadata": {},
   "source": [
    "\n",
    "## Regime A — IID noise (no bias / correlation)\n",
    "\n",
    "Here repetition *should* work reasonably, but adaptive can still stop early once confidence is high.\n"
   ]
  },
  {
   "cell_type": "code",
   "execution_count": 10,
   "id": "4c1283c5",
   "metadata": {},
   "outputs": [
    {
     "name": "stderr",
     "output_type": "stream",
     "text": [
      "/var/folders/_d/q2bd4jnj67x7fhpp0ttf_dw00000gn/T/ipykernel_799/1602641813.py:134: FutureWarning: DataFrameGroupBy.apply operated on the grouping columns. This behavior is deprecated, and in a future version of pandas the grouping columns will be excluded from the operation. Either pass `include_groups=False` to exclude the groupings or explicitly select the grouping columns after groupby to silence this warning.\n",
      "  df.groupby(\"policy\").apply(pr).reset_index(),\n"
     ]
    },
    {
     "data": {
      "text/html": [
       "<div>\n",
       "<style scoped>\n",
       "    .dataframe tbody tr th:only-of-type {\n",
       "        vertical-align: middle;\n",
       "    }\n",
       "\n",
       "    .dataframe tbody tr th {\n",
       "        vertical-align: top;\n",
       "    }\n",
       "\n",
       "    .dataframe thead th {\n",
       "        text-align: right;\n",
       "    }\n",
       "</style>\n",
       "<table border=\"1\" class=\"dataframe\">\n",
       "  <thead>\n",
       "    <tr style=\"text-align: right;\">\n",
       "      <th></th>\n",
       "      <th>policy</th>\n",
       "      <th>avg_questions</th>\n",
       "      <th>avg_switches</th>\n",
       "      <th>verified_rate</th>\n",
       "      <th>precision</th>\n",
       "      <th>recall</th>\n",
       "    </tr>\n",
       "  </thead>\n",
       "  <tbody>\n",
       "    <tr>\n",
       "      <th>0</th>\n",
       "      <td>adaptive_ucb</td>\n",
       "      <td>22.214</td>\n",
       "      <td>9.542</td>\n",
       "      <td>0.306</td>\n",
       "      <td>0.918</td>\n",
       "      <td>0.892</td>\n",
       "    </tr>\n",
       "    <tr>\n",
       "      <th>1</th>\n",
       "      <td>random_30</td>\n",
       "      <td>30.000</td>\n",
       "      <td>14.388</td>\n",
       "      <td>0.254</td>\n",
       "      <td>1.000</td>\n",
       "      <td>0.806</td>\n",
       "    </tr>\n",
       "    <tr>\n",
       "      <th>2</th>\n",
       "      <td>repeated_30</td>\n",
       "      <td>30.000</td>\n",
       "      <td>1.000</td>\n",
       "      <td>0.256</td>\n",
       "      <td>1.000</td>\n",
       "      <td>0.813</td>\n",
       "    </tr>\n",
       "  </tbody>\n",
       "</table>\n",
       "</div>"
      ],
      "text/plain": [
       "         policy  avg_questions  avg_switches  verified_rate  precision  recall\n",
       "0  adaptive_ucb         22.214         9.542          0.306      0.918   0.892\n",
       "1     random_30         30.000        14.388          0.254      1.000   0.806\n",
       "2   repeated_30         30.000         1.000          0.256      1.000   0.813"
      ]
     },
     "execution_count": 10,
     "metadata": {},
     "output_type": "execute_result"
    }
   ],
   "source": [
    "\n",
    "cfg_iid = Config(n_candidates=1000, max_q=30, tau=3.5, z=1.96, sigma_resid=0.6, rho=0.0, bias_A=0.0, bias_B=0.0)\n",
    "df_iid, summary_iid = run_experiment(cfg_iid)\n",
    "summary_iid.round(3)\n"
   ]
  },
  {
   "cell_type": "code",
   "execution_count": 11,
   "id": "ae4118ec",
   "metadata": {},
   "outputs": [
    {
     "data": {
      "image/png": "[encoded data removed]",
      "text/plain": [
       "<Figure size 600x400 with 1 Axes>"
      ]
     },
     "metadata": {},
     "output_type": "display_data"
    },
    {
     "data": {
      "image/png": "[encoded data removed]",
      "text/plain": [
       "<Figure size 600x400 with 1 Axes>"
      ]
     },
     "metadata": {},
     "output_type": "display_data"
    }
   ],
   "source": [
    "\n",
    "# Plot 1: Avg Questions per Candidate (IID)\n",
    "plt.figure(figsize=(6,4))\n",
    "plt.bar(summary_iid[\"policy\"], summary_iid[\"avg_questions\"])\n",
    "plt.title(\"Avg Questions per Candidate — IID noise\")\n",
    "plt.ylabel(\"Avg Questions\")\n",
    "plt.xlabel(\"Policy\")\n",
    "plt.tight_layout()\n",
    "plt.show()\n",
    "\n",
    "# Plot 2: Avg Switches per Session (IID)\n",
    "plt.figure(figsize=(6,4))\n",
    "plt.bar(summary_iid[\"policy\"], summary_iid[\"avg_switches\"])\n",
    "plt.title(\"Avg Template Switches — IID noise\")\n",
    "plt.ylabel(\"Avg Switches\")\n",
    "plt.xlabel(\"Policy\")\n",
    "plt.tight_layout()\n",
    "plt.show()\n"
   ]
  },
  {
   "cell_type": "markdown",
   "id": "519a5e3e",
   "metadata": {},
   "source": [
    "\n",
    "## Regime B — Correlated + Biased noise\n",
    "\n",
    "This is closer to reality with LLM graders (template preferences and persistent offsets).  \n",
    "Repetition tends to **amplify** bias; adaptive selection **diversifies** evidence and stops sooner.\n"
   ]
  },
  {
   "cell_type": "code",
   "execution_count": 5,
   "id": "5d6dd2cb",
   "metadata": {},
   "outputs": [
    {
     "name": "stderr",
     "output_type": "stream",
     "text": [
      "/var/folders/_d/q2bd4jnj67x7fhpp0ttf_dw00000gn/T/ipykernel_799/1602641813.py:134: FutureWarning: DataFrameGroupBy.apply operated on the grouping columns. This behavior is deprecated, and in a future version of pandas the grouping columns will be excluded from the operation. Either pass `include_groups=False` to exclude the groupings or explicitly select the grouping columns after groupby to silence this warning.\n",
      "  df.groupby(\"policy\").apply(pr).reset_index(),\n"
     ]
    },
    {
     "data": {
      "text/html": [
       "<div>\n",
       "<style scoped>\n",
       "    .dataframe tbody tr th:only-of-type {\n",
       "        vertical-align: middle;\n",
       "    }\n",
       "\n",
       "    .dataframe tbody tr th {\n",
       "        vertical-align: top;\n",
       "    }\n",
       "\n",
       "    .dataframe thead th {\n",
       "        text-align: right;\n",
       "    }\n",
       "</style>\n",
       "<table border=\"1\" class=\"dataframe\">\n",
       "  <thead>\n",
       "    <tr style=\"text-align: right;\">\n",
       "      <th></th>\n",
       "      <th>policy</th>\n",
       "      <th>avg_questions</th>\n",
       "      <th>avg_switches</th>\n",
       "      <th>verified_rate</th>\n",
       "      <th>precision</th>\n",
       "      <th>recall</th>\n",
       "    </tr>\n",
       "  </thead>\n",
       "  <tbody>\n",
       "    <tr>\n",
       "      <th>0</th>\n",
       "      <td>adaptive_ucb</td>\n",
       "      <td>22.13</td>\n",
       "      <td>7.781</td>\n",
       "      <td>0.331</td>\n",
       "      <td>0.819</td>\n",
       "      <td>0.860</td>\n",
       "    </tr>\n",
       "    <tr>\n",
       "      <th>1</th>\n",
       "      <td>random_30</td>\n",
       "      <td>30.00</td>\n",
       "      <td>14.500</td>\n",
       "      <td>0.236</td>\n",
       "      <td>0.932</td>\n",
       "      <td>0.698</td>\n",
       "    </tr>\n",
       "    <tr>\n",
       "      <th>2</th>\n",
       "      <td>repeated_30</td>\n",
       "      <td>30.00</td>\n",
       "      <td>1.000</td>\n",
       "      <td>0.243</td>\n",
       "      <td>0.938</td>\n",
       "      <td>0.724</td>\n",
       "    </tr>\n",
       "  </tbody>\n",
       "</table>\n",
       "</div>"
      ],
      "text/plain": [
       "         policy  avg_questions  avg_switches  verified_rate  precision  recall\n",
       "0  adaptive_ucb          22.13         7.781          0.331      0.819   0.860\n",
       "1     random_30          30.00        14.500          0.236      0.932   0.698\n",
       "2   repeated_30          30.00         1.000          0.243      0.938   0.724"
      ]
     },
     "execution_count": 5,
     "metadata": {},
     "output_type": "execute_result"
    }
   ],
   "source": [
    "\n",
    "cfg_corr = Config(n_candidates=1000, max_q=30, tau=3.5, z=1.96, sigma_resid=0.6, rho=0.6, bias_A=0.2, bias_B=-0.2)\n",
    "df_corr, summary_corr = run_experiment(cfg_corr)\n",
    "summary_corr.round(3)\n"
   ]
  },
  {
   "cell_type": "code",
   "execution_count": 6,
   "id": "0e9e130b",
   "metadata": {},
   "outputs": [
    {
     "data": {
      "image/png": "[encoded data removed]",
      "text/plain": [
       "<Figure size 600x400 with 1 Axes>"
      ]
     },
     "metadata": {},
     "output_type": "display_data"
    },
    {
     "data": {
      "image/png": "[encoded data removed]",
      "text/plain": [
       "<Figure size 600x400 with 1 Axes>"
      ]
     },
     "metadata": {},
     "output_type": "display_data"
    }
   ],
   "source": [
    "\n",
    "# Plot 1: Avg Questions per Candidate (Correlated + Biased)\n",
    "plt.figure(figsize=(6,4))\n",
    "plt.bar(summary_corr[\"policy\"], summary_corr[\"avg_questions\"])\n",
    "plt.title(\"Avg Questions per Candidate — Correlated + Biased\")\n",
    "plt.ylabel(\"Avg Questions\")\n",
    "plt.xlabel(\"Policy\")\n",
    "plt.tight_layout()\n",
    "plt.show()\n",
    "\n",
    "# Plot 2: Avg Switches per Session (Correlated + Biased)\n",
    "plt.figure(figsize=(6,4))\n",
    "plt.bar(summary_corr[\"policy\"], summary_corr[\"avg_switches\"])\n",
    "plt.title(\"Avg Template Switches — Correlated + Biased\")\n",
    "plt.ylabel(\"Avg Switches\")\n",
    "plt.xlabel(\"Policy\")\n",
    "plt.tight_layout()\n",
    "plt.show()\n"
   ]
  },
  {
   "cell_type": "markdown",
   "id": "31b2fec8",
   "metadata": {},
   "source": [
    "\n",
    "## Cost overlay (optional)\n",
    "\n",
    "Translate the speed gain into simple business terms. If an LLM‑graded question costs £0.002:\n"
   ]
  },
  {
   "cell_type": "code",
   "execution_count": 7,
   "id": "c26962be",
   "metadata": {},
   "outputs": [
    {
     "name": "stdout",
     "output_type": "stream",
     "text": [
      "Estimated Cost per Candidate — IID noise\n"
     ]
    },
    {
     "data": {
      "text/html": [
       "<div>\n",
       "<style scoped>\n",
       "    .dataframe tbody tr th:only-of-type {\n",
       "        vertical-align: middle;\n",
       "    }\n",
       "\n",
       "    .dataframe tbody tr th {\n",
       "        vertical-align: top;\n",
       "    }\n",
       "\n",
       "    .dataframe thead th {\n",
       "        text-align: right;\n",
       "    }\n",
       "</style>\n",
       "<table border=\"1\" class=\"dataframe\">\n",
       "  <thead>\n",
       "    <tr style=\"text-align: right;\">\n",
       "      <th></th>\n",
       "      <th>policy</th>\n",
       "      <th>avg_questions</th>\n",
       "      <th>cost</th>\n",
       "    </tr>\n",
       "  </thead>\n",
       "  <tbody>\n",
       "    <tr>\n",
       "      <th>0</th>\n",
       "      <td>adaptive_ucb</td>\n",
       "      <td>22.214</td>\n",
       "      <td>0.0444</td>\n",
       "    </tr>\n",
       "    <tr>\n",
       "      <th>1</th>\n",
       "      <td>random_30</td>\n",
       "      <td>30.000</td>\n",
       "      <td>0.0600</td>\n",
       "    </tr>\n",
       "    <tr>\n",
       "      <th>2</th>\n",
       "      <td>repeated_30</td>\n",
       "      <td>30.000</td>\n",
       "      <td>0.0600</td>\n",
       "    </tr>\n",
       "  </tbody>\n",
       "</table>\n",
       "</div>"
      ],
      "text/plain": [
       "         policy  avg_questions    cost\n",
       "0  adaptive_ucb         22.214  0.0444\n",
       "1     random_30         30.000  0.0600\n",
       "2   repeated_30         30.000  0.0600"
      ]
     },
     "metadata": {},
     "output_type": "display_data"
    },
    {
     "name": "stdout",
     "output_type": "stream",
     "text": [
      "\n",
      "Estimated Cost per Candidate — Correlated + Biased\n"
     ]
    },
    {
     "data": {
      "text/html": [
       "<div>\n",
       "<style scoped>\n",
       "    .dataframe tbody tr th:only-of-type {\n",
       "        vertical-align: middle;\n",
       "    }\n",
       "\n",
       "    .dataframe tbody tr th {\n",
       "        vertical-align: top;\n",
       "    }\n",
       "\n",
       "    .dataframe thead th {\n",
       "        text-align: right;\n",
       "    }\n",
       "</style>\n",
       "<table border=\"1\" class=\"dataframe\">\n",
       "  <thead>\n",
       "    <tr style=\"text-align: right;\">\n",
       "      <th></th>\n",
       "      <th>policy</th>\n",
       "      <th>avg_questions</th>\n",
       "      <th>cost</th>\n",
       "    </tr>\n",
       "  </thead>\n",
       "  <tbody>\n",
       "    <tr>\n",
       "      <th>0</th>\n",
       "      <td>adaptive_ucb</td>\n",
       "      <td>22.13</td>\n",
       "      <td>0.0443</td>\n",
       "    </tr>\n",
       "    <tr>\n",
       "      <th>1</th>\n",
       "      <td>random_30</td>\n",
       "      <td>30.00</td>\n",
       "      <td>0.0600</td>\n",
       "    </tr>\n",
       "    <tr>\n",
       "      <th>2</th>\n",
       "      <td>repeated_30</td>\n",
       "      <td>30.00</td>\n",
       "      <td>0.0600</td>\n",
       "    </tr>\n",
       "  </tbody>\n",
       "</table>\n",
       "</div>"
      ],
      "text/plain": [
       "         policy  avg_questions    cost\n",
       "0  adaptive_ucb          22.13  0.0443\n",
       "1     random_30          30.00  0.0600\n",
       "2   repeated_30          30.00  0.0600"
      ]
     },
     "metadata": {},
     "output_type": "display_data"
    }
   ],
   "source": [
    "\n",
    "COST_PER_Q = 0.002\n",
    "\n",
    "iid_costs = summary_iid.assign(cost=lambda d: d[\"avg_questions\"] * COST_PER_Q)[[\"policy\",\"avg_questions\",\"cost\"]]\n",
    "corr_costs = summary_corr.assign(cost=lambda d: d[\"avg_questions\"] * COST_PER_Q)[[\"policy\",\"avg_questions\",\"cost\"]]\n",
    "\n",
    "print(\"Estimated Cost per Candidate — IID noise\")\n",
    "display(iid_costs.round(4))\n",
    "print(\"\\nEstimated Cost per Candidate — Correlated + Biased\")\n",
    "display(corr_costs.round(4))\n"
   ]
  }
 ],
 "metadata": {
  "kernelspec": {
   "display_name": ".venv",
   "language": "python",
   "name": "python3"
  },
  "language_info": {
   "codemirror_mode": {
    "name": "ipython",
    "version": 3
   },
   "file_extension": ".py",
   "mimetype": "text/x-python",
   "name": "python",
   "nbconvert_exporter": "python",
   "pygments_lexer": "ipython3",
   "version": "3.11.11"
  }
 },
 "nbformat": 4,
 "nbformat_minor": 5
}
